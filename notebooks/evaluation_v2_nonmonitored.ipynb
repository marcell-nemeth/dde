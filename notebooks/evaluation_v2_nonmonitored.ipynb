{
 "cells": [
  {
   "cell_type": "code",
   "execution_count": 24,
   "metadata": {},
   "outputs": [],
   "source": [
    "import numpy as np\n",
    "import pandas as pd\n",
    "import matplotlib.pyplot as plt\n",
    "\n",
    "# turn off FutureWarning\n",
    "import warnings\n",
    "warnings.simplefilter(action='ignore', category=FutureWarning)"
   ]
  },
  {
   "cell_type": "code",
   "execution_count": 18,
   "metadata": {},
   "outputs": [],
   "source": [
    "data_df = pd.read_excel('measurements/CD_delta_vs_ro_chp_tabs_insects_adwin.xlsx', sheet_name='corr_measurements')"
   ]
  },
  {
   "cell_type": "code",
   "execution_count": 19,
   "metadata": {},
   "outputs": [],
   "source": [
    "# Create the reversed pairs\n",
    "reversed_df = data_df.rename(columns={'feat_1': 'feat_2', 'feat_2': 'feat_1', 'feat_1_drift': 'feat_2_drift', 'feat_2_drift': 'feat_1_drift', 'feat_1_cd_score': 'feat_2_cd_score', 'feat_2_cd_score': 'feat_1_cd_score'})\n",
    "\n",
    "# Concatenate the original dataframe with the reversed pairs\n",
    "data_df = pd.concat([data_df, reversed_df], ignore_index=True)"
   ]
  },
  {
   "cell_type": "code",
   "execution_count": 20,
   "metadata": {},
   "outputs": [
    {
     "data": {
      "text/plain": [
       "200"
      ]
     },
     "execution_count": 20,
     "metadata": {},
     "output_type": "execute_result"
    }
   ],
   "source": [
    "data_df.feat_1.nunique()"
   ]
  },
  {
   "cell_type": "code",
   "execution_count": 21,
   "metadata": {},
   "outputs": [],
   "source": [
    "dataset_name = 'INSECTS'"
   ]
  },
  {
   "cell_type": "code",
   "execution_count": 22,
   "metadata": {},
   "outputs": [],
   "source": [
    "# put all above into a function\n",
    "\n",
    "def compute_results(data_df, dataset_name, fold, corr_threshold, num_monitored_features):\n",
    "    m = data_df['feat_1'].nunique()\n",
    "    num_non_monitored_features = m - num_monitored_features\n",
    "    non_monitored_ratio = num_non_monitored_features / m\n",
    "\n",
    "    monitored_features = np.random.choice(data_df['feat_1'].unique(), num_monitored_features, replace=False)\n",
    "    non_monitored_features = np.setdiff1d(data_df['feat_1'].unique(), monitored_features)\n",
    "\n",
    "    # num_monitored_features_drifting = data_df[data_df['feat_1'].isin(monitored_features)].drop_duplicates(subset=['feat_1']).feat_1_drift.sum()\n",
    "\n",
    "    num_non_monitored_features_drifting = data_df[data_df['feat_1'].isin(non_monitored_features)].drop_duplicates(subset=['feat_1']).feat_1_drift.sum()\n",
    "\n",
    "    all_features_drifting = data_df[data_df['feat_1_drift']==1].drop_duplicates(subset=['feat_1']).feat_1.unique()\n",
    "\n",
    "    all_features_non_drifting = data_df[data_df['feat_1_drift']==0].drop_duplicates(subset=['feat_1']).feat_1.unique()\n",
    "\n",
    "    pred_features_drifting = data_df[(data_df['feat_1'].isin(monitored_features)) & (data_df['feat_2'].isin(non_monitored_features)) & (data_df['ref_corr']>=corr_threshold)].drop_duplicates(subset=['feat_2']).feat_2.unique()\n",
    "\n",
    "    tp_features_drifting = set(pred_features_drifting).intersection(all_features_drifting)\n",
    "\n",
    "    pred_features_non_drifting = set(non_monitored_features) - set(pred_features_drifting)\n",
    "\n",
    "    tn_features_drifting = set(pred_features_non_drifting).intersection(all_features_non_drifting)\n",
    "\n",
    "    num_tn_features_drifting = len(tn_features_drifting)\n",
    "\n",
    "    num_tp_features_drifting = len(tp_features_drifting)\n",
    "\n",
    "    num_pred_features_drifting_non_monitored = len(set(pred_features_drifting).intersection(non_monitored_features))\n",
    "\n",
    "    results_df_non_monitored = pd.DataFrame(columns=['dataset', 'corr_threshold', 'num_monitored_features', 'fold', 'num_non_monitored_features', 'non_monitored_ratio', 'num_tp_features_drifting', 'num_tn_features_drifting', 'num_non_monitored_features_drifting', 'num_pred_features_drifting_non_monitored'])\n",
    "\n",
    "    results_df_non_monitored = results_df_non_monitored.append({'dataset': dataset_name,\n",
    "                                                                'corr_threshold': corr_threshold,\n",
    "                                                                'num_monitored_features': num_monitored_features,\n",
    "                                                                'fold': fold,\n",
    "                                                                'num_non_monitored_features': num_non_monitored_features,\n",
    "                                                                'non_monitored_ratio': non_monitored_ratio,\n",
    "                                                                'num_tp_features_drifting': num_tp_features_drifting,\n",
    "                                                                'num_tn_features_drifting': num_tn_features_drifting,\n",
    "                                                                'num_non_monitored_features_drifting': num_non_monitored_features_drifting,\n",
    "                                                                'num_pred_features_drifting_non_monitored': num_pred_features_drifting_non_monitored}, ignore_index=True)\n",
    "    \n",
    "    try:\n",
    "        results_df_non_monitored['accuracy'] = (results_df_non_monitored['num_tp_features_drifting'] + results_df_non_monitored['num_tn_features_drifting']) / results_df_non_monitored['num_non_monitored_features']\n",
    "        results_df_non_monitored['recall'] = results_df_non_monitored['num_tp_features_drifting'] / results_df_non_monitored['num_non_monitored_features_drifting']\n",
    "        results_df_non_monitored['precision'] = results_df_non_monitored['num_tp_features_drifting'] / num_pred_features_drifting_non_monitored\n",
    "        results_df_non_monitored['f1_score'] = 2 * (results_df_non_monitored['precision'] * results_df_non_monitored['recall']) / (results_df_non_monitored['precision'] + results_df_non_monitored['recall'])\n",
    "    except ZeroDivisionError:\n",
    "        results_df_non_monitored['accuracy'] = 0\n",
    "        results_df_non_monitored['recall'] = 0\n",
    "        results_df_non_monitored['precision'] = 0\n",
    "        results_df_non_monitored['f1_score'] = 0\n",
    "    \n",
    "    return results_df_non_monitored"
   ]
  },
  {
   "cell_type": "code",
   "execution_count": 25,
   "metadata": {},
   "outputs": [
    {
     "name": "stdout",
     "output_type": "stream",
     "text": [
      "0.1\n",
      "0.2\n",
      "0.30000000000000004\n",
      "0.4\n",
      "0.5\n",
      "0.6\n",
      "0.7000000000000001\n",
      "0.8\n",
      "0.9\n"
     ]
    }
   ],
   "source": [
    "# run a 10 fold cross validation, append the results to a final_measurements dataframe\n",
    "final_measurements = pd.DataFrame(columns=['dataset', 'corr_threshold', 'num_monitored_features', 'fold', 'num_non_monitored_features', 'non_monitored_ratio', 'num_tp_features_drifting', 'num_tn_features_drifting', 'num_non_monitored_features_drifting', 'num_pred_features_drifting_non_monitored', 'accuracy', 'recall', 'precision', 'f1_score'])\n",
    "\n",
    "m=data_df['feat_1'].nunique()\n",
    "for corr_threshold in np.arange(0.1, 1.0, 0.1):\n",
    "    print(corr_threshold)\n",
    "    for num_monitored_features in range(int(m).bit_length()):\n",
    "        num_monitored_features_val = int(m / (2 ** num_monitored_features))\n",
    "        if num_monitored_features_val < 1:\n",
    "            break\n",
    "        for fold in range(10):\n",
    "            results_df_non_monitored = compute_results(data_df, dataset_name, fold, corr_threshold, num_monitored_features_val)\n",
    "            final_measurements = final_measurements.append(results_df_non_monitored, ignore_index=True)"
   ]
  },
  {
   "cell_type": "code",
   "execution_count": 26,
   "metadata": {},
   "outputs": [],
   "source": [
    "final_measurements.to_excel(f'measurements/final/{dataset_name}_results_non_monitored.xlsx', index=False)"
   ]
  },
  {
   "cell_type": "code",
   "execution_count": null,
   "metadata": {},
   "outputs": [],
   "source": []
  }
 ],
 "metadata": {
  "kernelspec": {
   "display_name": "base",
   "language": "python",
   "name": "python3"
  },
  "language_info": {
   "codemirror_mode": {
    "name": "ipython",
    "version": 3
   },
   "file_extension": ".py",
   "mimetype": "text/x-python",
   "name": "python",
   "nbconvert_exporter": "python",
   "pygments_lexer": "ipython3",
   "version": "3.9.7"
  }
 },
 "nbformat": 4,
 "nbformat_minor": 2
}
