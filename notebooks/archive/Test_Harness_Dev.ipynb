{
 "cells": [
  {
   "cell_type": "markdown",
   "id": "5f4e083a",
   "metadata": {},
   "source": [
    "# Test Harness Development Notebook"
   ]
  },
  {
   "cell_type": "code",
   "execution_count": 1,
   "id": "37a8f964",
   "metadata": {},
   "outputs": [],
   "source": [
    "import os\n",
    "import sys\n",
    "\n",
    "sys.path.append(os.path.dirname(os.getcwd()))\n",
    "\n",
    "import pandas as pd\n",
    "from sklearn.preprocessing import LabelEncoder\n",
    "\n",
    "%load_ext autoreload\n",
    "%autoreload 2"
   ]
  },
  {
   "cell_type": "markdown",
   "id": "d6194f42",
   "metadata": {},
   "source": [
    "### Load & Prepare Data"
   ]
  },
  {
   "cell_type": "code",
   "execution_count": 2,
   "id": "3ba9a858",
   "metadata": {},
   "outputs": [],
   "source": [
    "data = pd.read_csv(\"../data/electricity-normalized.csv\")"
   ]
  },
  {
   "cell_type": "code",
   "execution_count": 3,
   "id": "6ea82d71",
   "metadata": {},
   "outputs": [],
   "source": [
    "# specify columns to keep and if categorical\n",
    "cols = (\n",
    "    (\"day\", True),\n",
    "    (\"period\", True),\n",
    "    (\"nswdemand\", False),\n",
    "    (\"vicdemand\", False),\n",
    "    (\"transfer\", False),\n",
    "    (\"class\", True),\n",
    ")\n",
    "\n",
    "data_clean = data[[col for col, _ in cols]].copy(deep=True)\n",
    "\n",
    "# label encode categorical\n",
    "catcols = (col for col, iscat in cols if iscat)\n",
    "\n",
    "for col in catcols:\n",
    "    data_clean[col] = LabelEncoder().fit_transform(data_clean[col])\n",
    "\n",
    "# convert to categorical\n",
    "def categorize(df, cols):\n",
    "    catcols = (col for col, iscat in cols if iscat)\n",
    "    for col in catcols:\n",
    "        df[col] = pd.Categorical(df[col])\n",
    "    return df\n",
    "\n",
    "\n",
    "data_clean = categorize(data_clean, cols)\n"
   ]
  },
  {
   "cell_type": "code",
   "execution_count": 4,
   "id": "099cb3f7",
   "metadata": {},
   "outputs": [
    {
     "data": {
      "text/html": [
       "<div>\n",
       "<style scoped>\n",
       "    .dataframe tbody tr th:only-of-type {\n",
       "        vertical-align: middle;\n",
       "    }\n",
       "\n",
       "    .dataframe tbody tr th {\n",
       "        vertical-align: top;\n",
       "    }\n",
       "\n",
       "    .dataframe thead th {\n",
       "        text-align: right;\n",
       "    }\n",
       "</style>\n",
       "<table border=\"1\" class=\"dataframe\">\n",
       "  <thead>\n",
       "    <tr style=\"text-align: right;\">\n",
       "      <th></th>\n",
       "      <th>day</th>\n",
       "      <th>period</th>\n",
       "      <th>nswdemand</th>\n",
       "      <th>vicdemand</th>\n",
       "      <th>transfer</th>\n",
       "      <th>class</th>\n",
       "    </tr>\n",
       "  </thead>\n",
       "  <tbody>\n",
       "    <tr>\n",
       "      <th>0</th>\n",
       "      <td>1</td>\n",
       "      <td>0</td>\n",
       "      <td>0.439155</td>\n",
       "      <td>0.422915</td>\n",
       "      <td>0.414912</td>\n",
       "      <td>1</td>\n",
       "    </tr>\n",
       "    <tr>\n",
       "      <th>1</th>\n",
       "      <td>1</td>\n",
       "      <td>1</td>\n",
       "      <td>0.415055</td>\n",
       "      <td>0.422915</td>\n",
       "      <td>0.414912</td>\n",
       "      <td>1</td>\n",
       "    </tr>\n",
       "    <tr>\n",
       "      <th>2</th>\n",
       "      <td>1</td>\n",
       "      <td>2</td>\n",
       "      <td>0.385004</td>\n",
       "      <td>0.422915</td>\n",
       "      <td>0.414912</td>\n",
       "      <td>1</td>\n",
       "    </tr>\n",
       "    <tr>\n",
       "      <th>3</th>\n",
       "      <td>1</td>\n",
       "      <td>3</td>\n",
       "      <td>0.314639</td>\n",
       "      <td>0.422915</td>\n",
       "      <td>0.414912</td>\n",
       "      <td>1</td>\n",
       "    </tr>\n",
       "    <tr>\n",
       "      <th>4</th>\n",
       "      <td>1</td>\n",
       "      <td>4</td>\n",
       "      <td>0.251116</td>\n",
       "      <td>0.422915</td>\n",
       "      <td>0.414912</td>\n",
       "      <td>0</td>\n",
       "    </tr>\n",
       "    <tr>\n",
       "      <th>...</th>\n",
       "      <td>...</td>\n",
       "      <td>...</td>\n",
       "      <td>...</td>\n",
       "      <td>...</td>\n",
       "      <td>...</td>\n",
       "      <td>...</td>\n",
       "    </tr>\n",
       "    <tr>\n",
       "      <th>45307</th>\n",
       "      <td>6</td>\n",
       "      <td>43</td>\n",
       "      <td>0.340672</td>\n",
       "      <td>0.255049</td>\n",
       "      <td>0.405263</td>\n",
       "      <td>0</td>\n",
       "    </tr>\n",
       "    <tr>\n",
       "      <th>45308</th>\n",
       "      <td>6</td>\n",
       "      <td>44</td>\n",
       "      <td>0.355549</td>\n",
       "      <td>0.241326</td>\n",
       "      <td>0.420614</td>\n",
       "      <td>0</td>\n",
       "    </tr>\n",
       "    <tr>\n",
       "      <th>45309</th>\n",
       "      <td>6</td>\n",
       "      <td>45</td>\n",
       "      <td>0.340970</td>\n",
       "      <td>0.247799</td>\n",
       "      <td>0.362281</td>\n",
       "      <td>0</td>\n",
       "    </tr>\n",
       "    <tr>\n",
       "      <th>45310</th>\n",
       "      <td>6</td>\n",
       "      <td>46</td>\n",
       "      <td>0.329366</td>\n",
       "      <td>0.345417</td>\n",
       "      <td>0.206579</td>\n",
       "      <td>1</td>\n",
       "    </tr>\n",
       "    <tr>\n",
       "      <th>45311</th>\n",
       "      <td>6</td>\n",
       "      <td>47</td>\n",
       "      <td>0.288753</td>\n",
       "      <td>0.355256</td>\n",
       "      <td>0.231140</td>\n",
       "      <td>0</td>\n",
       "    </tr>\n",
       "  </tbody>\n",
       "</table>\n",
       "<p>45312 rows × 6 columns</p>\n",
       "</div>"
      ],
      "text/plain": [
       "      day period  nswdemand  vicdemand  transfer class\n",
       "0       1      0   0.439155   0.422915  0.414912     1\n",
       "1       1      1   0.415055   0.422915  0.414912     1\n",
       "2       1      2   0.385004   0.422915  0.414912     1\n",
       "3       1      3   0.314639   0.422915  0.414912     1\n",
       "4       1      4   0.251116   0.422915  0.414912     0\n",
       "...    ..    ...        ...        ...       ...   ...\n",
       "45307   6     43   0.340672   0.255049  0.405263     0\n",
       "45308   6     44   0.355549   0.241326  0.420614     0\n",
       "45309   6     45   0.340970   0.247799  0.362281     0\n",
       "45310   6     46   0.329366   0.345417  0.206579     1\n",
       "45311   6     47   0.288753   0.355256  0.231140     0\n",
       "\n",
       "[45312 rows x 6 columns]"
      ]
     },
     "execution_count": 4,
     "metadata": {},
     "output_type": "execute_result"
    }
   ],
   "source": [
    "data_clean"
   ]
  },
  {
   "cell_type": "markdown",
   "id": "6f5c2af2",
   "metadata": {},
   "source": [
    "### Experiment Development"
   ]
  },
  {
   "cell_type": "code",
   "execution_count": 5,
   "id": "e3d83728",
   "metadata": {},
   "outputs": [],
   "source": [
    "from sklearn.ensemble import RandomForestClassifier\n",
    "from sklearn.svm import SVC\n",
    "\n",
    "from test_harness.utils.utils import plot_experiment_error, plot_multiple_experiments\n",
    "\n",
    "from test_harness.datasets.dataset import Dataset\n",
    "from test_harness.experiments.experiment import Experiment\n",
    "from test_harness.experiments.baseline_experiment import BaselineExperiment\n",
    "from test_harness.experiments.topline_experiment import ToplineExperiment\n",
    "from test_harness.experiments.sqsi_experiment import SQSI_MRExperiment"
   ]
  },
  {
   "cell_type": "code",
   "execution_count": 6,
   "id": "562a0971",
   "metadata": {},
   "outputs": [],
   "source": [
    "column_mapping = {\n",
    "    \"target\": \"class\",\n",
    "    \"numerical_features\": [\"nswdemand\", \"vicdemand\"],\n",
    "    \"categorical_features\": [\"day\", \"period\"],\n",
    "}\n",
    "\n",
    "ED_dataset = Dataset(\n",
    "    full_df=data_clean, column_mapping=column_mapping, window_size=2500\n",
    ")\n",
    "model = RandomForestClassifier(n_estimators=10, random_state=42)\n",
    "# model = SVC(C=0.8, random_state=42, probability=True)"
   ]
  },
  {
   "cell_type": "code",
   "execution_count": 10,
   "id": "1dcc948c",
   "metadata": {
    "collapsed": true
   },
   "outputs": [
    {
     "name": "stdout",
     "output_type": "stream",
     "text": [
      "DOING THIS!\n",
      "DOING THIS!\n",
      "DOING THIS!\n",
      "DOING THIS!\n",
      "DOING THIS!\n",
      "DOING THIS!\n",
      "DOING THIS!\n",
      "DOING THIS!\n",
      "DOING THIS!\n",
      "DOING THIS!\n",
      "DOING THIS!\n",
      "DOING THIS!\n",
      "DOING THIS!\n",
      "DOING THIS!\n",
      "DOING THIS!\n",
      "DOING THIS!\n",
      "DOING THIS!\n",
      "DOING THIS!\n",
      "DOING THIS!\n",
      "DOING THIS!\n",
      "DOING THIS!\n",
      "DOING THIS!\n",
      "DOING THIS!\n",
      "DOING THIS!\n",
      "DOING THIS!\n",
      "DOING THIS!\n",
      "DOING THIS!\n",
      "DOING THIS!\n",
      "DOING THIS!\n",
      "DOING THIS!\n",
      "DOING THIS!\n",
      "DOING THIS!\n",
      "DOING THIS!\n",
      "DOING THIS!\n",
      "CPU times: user 2.87 s, sys: 44.5 ms, total: 2.91 s\n",
      "Wall time: 2.9 s\n"
     ]
    }
   ],
   "source": [
    "%%time\n",
    "\n",
    "baseline = BaselineExperiment(model=model, dataset=ED_dataset)\n",
    "topline = ToplineExperiment(model=model, dataset=ED_dataset)\n",
    "# sqsi_mr = SQSI_MRExperiment(model=model, dataset=ED_dataset, k=20, significance_thresh=0.001)\n",
    "\n",
    "baseline.run()\n",
    "topline.run()\n",
    "# sqsi_mr.run()\n",
    "\n",
    "# plot_experiment_error(baseline);\n",
    "# plot_experiment_error(topline);"
   ]
  },
  {
   "cell_type": "code",
   "execution_count": 11,
   "id": "311a5d36",
   "metadata": {},
   "outputs": [
    {
     "data": {
      "text/plain": [
       "<AxesSubplot:title={'center':'Cumulative Score over Experiment \\n             Label Expense: 40000 \\n             Total Train Time: 0.44107985496520996'}, xlabel='0'>"
      ]
     },
     "execution_count": 11,
     "metadata": {},
     "output_type": "execute_result"
    },
    {
     "data": {
      "image/png": "[encoded data removed]",
      "text/plain": [
       "<Figure size 1080x504 with 1 Axes>"
      ]
     },
     "metadata": {
      "needs_background": "light"
     },
     "output_type": "display_data"
    }
   ],
   "source": [
    "plot_experiment_error(sqsi_mr)"
   ]
  },
  {
   "cell_type": "code",
   "execution_count": 12,
   "id": "ffef9fca",
   "metadata": {},
   "outputs": [
    {
     "data": {
      "text/plain": [
       "<AxesSubplot:title={'center':'Overall Score by Experiment'}, xlabel='0'>"
      ]
     },
     "execution_count": 12,
     "metadata": {},
     "output_type": "execute_result"
    },
    {
     "data": {
      "image/png": "[encoded data removed]",
      "text/plain": [
       "<Figure size 1080x504 with 1 Axes>"
      ]
     },
     "metadata": {
      "needs_background": "light"
     },
     "output_type": "display_data"
    }
   ],
   "source": [
    "exps = [baseline, topline, sqsi_mr]\n",
    "plot_multiple_experiments(exps)"
   ]
  },
  {
   "cell_type": "code",
   "execution_count": null,
   "id": "aa39384b",
   "metadata": {},
   "outputs": [],
   "source": []
  },
  {
   "cell_type": "code",
   "execution_count": null,
   "id": "26821a64",
   "metadata": {},
   "outputs": [],
   "source": []
  },
  {
   "cell_type": "code",
   "execution_count": null,
   "id": "0b476aca",
   "metadata": {},
   "outputs": [],
   "source": []
  },
  {
   "cell_type": "code",
   "execution_count": null,
   "id": "fc8b0d79",
   "metadata": {},
   "outputs": [],
   "source": []
  },
  {
   "cell_type": "code",
   "execution_count": null,
   "id": "b5dffde9",
   "metadata": {},
   "outputs": [],
   "source": []
  },
  {
   "cell_type": "code",
   "execution_count": null,
   "id": "627655c1",
   "metadata": {},
   "outputs": [],
   "source": [
    "experiments = [{'name': 'baseline', 'experiment': BaselineExperiment(model=model, dataset=ED_dataset)},\n",
    "               {'name': 'topline', 'experiment': ToplineExperiment(model=model, dataset=ED_dataset)}]"
   ]
  },
  {
   "cell_type": "markdown",
   "id": "42bbef03",
   "metadata": {},
   "source": [
    "## SQSI Development"
   ]
  },
  {
   "cell_type": "code",
   "execution_count": 9,
   "id": "8184a95c",
   "metadata": {},
   "outputs": [],
   "source": [
    "from sklearn.model_selection import KFold, StratifiedKFold, GroupKFold, LeaveOneOut\n",
    "from sklearn.pipeline import Pipeline\n",
    "from sklearn.preprocessing import MinMaxScaler"
   ]
  },
  {
   "cell_type": "code",
   "execution_count": 12,
   "id": "6af0238f",
   "metadata": {},
   "outputs": [],
   "source": [
    "test_data = data_clean[:10]"
   ]
  },
  {
   "cell_type": "code",
   "execution_count": 13,
   "id": "9258893a",
   "metadata": {},
   "outputs": [
    {
     "data": {
      "text/html": [
       "<div>\n",
       "<style scoped>\n",
       "    .dataframe tbody tr th:only-of-type {\n",
       "        vertical-align: middle;\n",
       "    }\n",
       "\n",
       "    .dataframe tbody tr th {\n",
       "        vertical-align: top;\n",
       "    }\n",
       "\n",
       "    .dataframe thead th {\n",
       "        text-align: right;\n",
       "    }\n",
       "</style>\n",
       "<table border=\"1\" class=\"dataframe\">\n",
       "  <thead>\n",
       "    <tr style=\"text-align: right;\">\n",
       "      <th></th>\n",
       "      <th>day</th>\n",
       "      <th>period</th>\n",
       "      <th>nswdemand</th>\n",
       "      <th>vicdemand</th>\n",
       "      <th>transfer</th>\n",
       "      <th>class</th>\n",
       "    </tr>\n",
       "  </thead>\n",
       "  <tbody>\n",
       "    <tr>\n",
       "      <th>0</th>\n",
       "      <td>1</td>\n",
       "      <td>0</td>\n",
       "      <td>0.439155</td>\n",
       "      <td>0.422915</td>\n",
       "      <td>0.414912</td>\n",
       "      <td>1</td>\n",
       "    </tr>\n",
       "    <tr>\n",
       "      <th>1</th>\n",
       "      <td>1</td>\n",
       "      <td>1</td>\n",
       "      <td>0.415055</td>\n",
       "      <td>0.422915</td>\n",
       "      <td>0.414912</td>\n",
       "      <td>1</td>\n",
       "    </tr>\n",
       "    <tr>\n",
       "      <th>2</th>\n",
       "      <td>1</td>\n",
       "      <td>2</td>\n",
       "      <td>0.385004</td>\n",
       "      <td>0.422915</td>\n",
       "      <td>0.414912</td>\n",
       "      <td>1</td>\n",
       "    </tr>\n",
       "    <tr>\n",
       "      <th>3</th>\n",
       "      <td>1</td>\n",
       "      <td>3</td>\n",
       "      <td>0.314639</td>\n",
       "      <td>0.422915</td>\n",
       "      <td>0.414912</td>\n",
       "      <td>1</td>\n",
       "    </tr>\n",
       "    <tr>\n",
       "      <th>4</th>\n",
       "      <td>1</td>\n",
       "      <td>4</td>\n",
       "      <td>0.251116</td>\n",
       "      <td>0.422915</td>\n",
       "      <td>0.414912</td>\n",
       "      <td>0</td>\n",
       "    </tr>\n",
       "    <tr>\n",
       "      <th>5</th>\n",
       "      <td>1</td>\n",
       "      <td>5</td>\n",
       "      <td>0.207528</td>\n",
       "      <td>0.422915</td>\n",
       "      <td>0.414912</td>\n",
       "      <td>0</td>\n",
       "    </tr>\n",
       "    <tr>\n",
       "      <th>6</th>\n",
       "      <td>1</td>\n",
       "      <td>6</td>\n",
       "      <td>0.171824</td>\n",
       "      <td>0.422915</td>\n",
       "      <td>0.414912</td>\n",
       "      <td>0</td>\n",
       "    </tr>\n",
       "    <tr>\n",
       "      <th>7</th>\n",
       "      <td>1</td>\n",
       "      <td>7</td>\n",
       "      <td>0.152782</td>\n",
       "      <td>0.422915</td>\n",
       "      <td>0.414912</td>\n",
       "      <td>0</td>\n",
       "    </tr>\n",
       "    <tr>\n",
       "      <th>8</th>\n",
       "      <td>1</td>\n",
       "      <td>8</td>\n",
       "      <td>0.134930</td>\n",
       "      <td>0.422915</td>\n",
       "      <td>0.414912</td>\n",
       "      <td>0</td>\n",
       "    </tr>\n",
       "    <tr>\n",
       "      <th>9</th>\n",
       "      <td>1</td>\n",
       "      <td>9</td>\n",
       "      <td>0.140583</td>\n",
       "      <td>0.422915</td>\n",
       "      <td>0.414912</td>\n",
       "      <td>0</td>\n",
       "    </tr>\n",
       "  </tbody>\n",
       "</table>\n",
       "</div>"
      ],
      "text/plain": [
       "  day period  nswdemand  vicdemand  transfer class\n",
       "0   1      0   0.439155   0.422915  0.414912     1\n",
       "1   1      1   0.415055   0.422915  0.414912     1\n",
       "2   1      2   0.385004   0.422915  0.414912     1\n",
       "3   1      3   0.314639   0.422915  0.414912     1\n",
       "4   1      4   0.251116   0.422915  0.414912     0\n",
       "5   1      5   0.207528   0.422915  0.414912     0\n",
       "6   1      6   0.171824   0.422915  0.414912     0\n",
       "7   1      7   0.152782   0.422915  0.414912     0\n",
       "8   1      8   0.134930   0.422915  0.414912     0\n",
       "9   1      9   0.140583   0.422915  0.414912     0"
      ]
     },
     "execution_count": 13,
     "metadata": {},
     "output_type": "execute_result"
    }
   ],
   "source": [
    "test_data"
   ]
  },
  {
   "cell_type": "code",
   "execution_count": 14,
   "id": "24b00f76",
   "metadata": {},
   "outputs": [],
   "source": [
    "def split_df(df, label_col):\n",
    "    \"\"\"Splits the features from labels in a dataframe, returns both\"\"\"\n",
    "    return df.drop(label_col, axis=1), df[label_col]"
   ]
  },
  {
   "cell_type": "code",
   "execution_count": 15,
   "id": "0440b54e",
   "metadata": {},
   "outputs": [],
   "source": [
    "X, y = split_df(test_data, label_col='class')"
   ]
  },
  {
   "cell_type": "code",
   "execution_count": 16,
   "id": "294587b7",
   "metadata": {},
   "outputs": [],
   "source": [
    "skf = StratifiedKFold(n_splits=3, random_state=42, shuffle=True)\n",
    "\n"
   ]
  },
  {
   "cell_type": "code",
   "execution_count": 20,
   "id": "ca09ff5c",
   "metadata": {
    "scrolled": true
   },
   "outputs": [],
   "source": [
    "import numpy as np\n",
    "def make_kfold_predictions(X, y, k):\n",
    "    \"\"\"A KFold version of LeaveOneOut predictions.\n",
    "    \n",
    "    Rather than performing exhaustive leave-one-out methodology to get predictions\n",
    "    for each observation, we use a less exhaustive KFold approach.\n",
    "    \n",
    "    When k == len(X), this is equivalent to LeaveOneOut, expensive, but robust. Reducing k\n",
    "    saves computation, but reduces robustness of model.\n",
    "    \n",
    "    Args:\n",
    "        X (pd.Dataframe) - features in evaluation window\n",
    "        y (pd.Series) - labels in evaluation window\n",
    "        k (int) - number of folds\n",
    "    \n",
    "    Returns:\n",
    "        preds (np.array) - an array of predictions for each X in the input (NOT IN ORDER OF INPUT)\n",
    "        \n",
    "    \n",
    "    \"\"\"\n",
    "\n",
    "    skf = StratifiedKFold(n_splits=k, random_state=42, shuffle=True)\n",
    "    \n",
    "    preds = np.array([])\n",
    "    for train_indicies, test_indicies in skf.split(X, y):\n",
    "\n",
    "        # instantiate training pipeline\n",
    "        pipe = Pipeline(\n",
    "                    steps=[\n",
    "                                (\"scaler\", MinMaxScaler()),\n",
    "                                (\"clf\", model),\n",
    "                            ]\n",
    "                        )\n",
    "        # fit it\n",
    "        pipe.fit(X.iloc[train_indicies], y.iloc[train_indicies])\n",
    "\n",
    "        # score it on this Kfold's test data\n",
    "        y_preds_split = pipe.predict_proba(X.iloc[test_indicies])\n",
    "        y_preds_split_posclass_proba = y_preds_split[:, 1]\n",
    "\n",
    "        preds = np.append(preds, y_preds_split_posclass_proba)\n",
    "        \n",
    "    return preds "
   ]
  },
  {
   "cell_type": "code",
   "execution_count": null,
   "id": "6c536d57",
   "metadata": {},
   "outputs": [],
   "source": [
    "def make_leaveoneout_predictions(X, y):\n",
    "    \n",
    "    loo = LeaveOneOut()\n",
    "    \n",
    "    preds = np.array([])\n",
    "    for train_indicies, test_indicies in skf.split(X, y):\n",
    "        \n",
    "        # instantiate training pipeline\n",
    "        pipe = Pipeline(\n",
    "                    steps=[\n",
    "                                (\"scaler\", MinMaxScaler()),\n",
    "                                (\"clf\", model),\n",
    "                            ]\n",
    "                        )\n",
    "        # fit it\n",
    "        pipe.fit(X.iloc[train_indicies], y.iloc[train_indicies])\n",
    "\n",
    "        # score it on this Kfold's test data\n",
    "        y_preds_split = pipe.predict_proba(X.iloc[test_indicies])\n",
    "        y_preds_split_posclass_proba = y_preds_split[:, 1]\n",
    "\n",
    "        preds = np.append(preds, y_preds_split_posclass_proba)\n",
    "\n",
    "    \n",
    "    "
   ]
  },
  {
   "cell_type": "code",
   "execution_count": 22,
   "id": "1e77356f",
   "metadata": {},
   "outputs": [],
   "source": [
    "preds = make_kfold_predictions(X, y, 3)"
   ]
  },
  {
   "cell_type": "code",
   "execution_count": 23,
   "id": "811dc967",
   "metadata": {},
   "outputs": [
    {
     "data": {
      "text/plain": [
       "array([0.9, 0.9, 0.1, 0. , 1. , 0.1, 0. , 1. , 0. , 0. ])"
      ]
     },
     "execution_count": 23,
     "metadata": {},
     "output_type": "execute_result"
    }
   ],
   "source": [
    "preds"
   ]
  },
  {
   "cell_type": "code",
   "execution_count": 24,
   "id": "b494f475",
   "metadata": {},
   "outputs": [
    {
     "data": {
      "text/plain": [
       "0    1\n",
       "1    1\n",
       "2    1\n",
       "3    1\n",
       "4    0\n",
       "5    0\n",
       "6    0\n",
       "7    0\n",
       "8    0\n",
       "9    0\n",
       "Name: class, dtype: category\n",
       "Categories (2, int64): [0, 1]"
      ]
     },
     "execution_count": 24,
     "metadata": {},
     "output_type": "execute_result"
    }
   ],
   "source": [
    "y"
   ]
  },
  {
   "cell_type": "code",
   "execution_count": 101,
   "id": "bb365777",
   "metadata": {},
   "outputs": [
    {
     "data": {
      "text/plain": [
       "100"
      ]
     },
     "execution_count": 101,
     "metadata": {},
     "output_type": "execute_result"
    }
   ],
   "source": [
    "len(preds)"
   ]
  },
  {
   "cell_type": "code",
   "execution_count": 86,
   "id": "21001b19",
   "metadata": {},
   "outputs": [
    {
     "data": {
      "text/plain": [
       "(100,)"
      ]
     },
     "execution_count": 86,
     "metadata": {},
     "output_type": "execute_result"
    }
   ],
   "source": [
    "loo_preds.shape"
   ]
  },
  {
   "cell_type": "code",
   "execution_count": 89,
   "id": "1382cf7e",
   "metadata": {},
   "outputs": [
    {
     "data": {
      "text/plain": [
       "array([ 0,  1,  4,  5,  7,  8,  9, 10, 12, 13, 15, 17, 18, 20, 22, 23, 24,\n",
       "       25, 27, 28, 29, 30, 31, 32, 35, 38, 39, 40, 41, 43, 44, 45, 47, 52,\n",
       "       53, 54, 55, 56, 57, 59, 60, 62, 64, 65, 67, 68, 69, 70, 72, 73, 74,\n",
       "       75, 76, 77, 78, 79, 81, 82, 85, 89, 90, 92, 93, 95, 96, 97, 99])"
      ]
     },
     "execution_count": 89,
     "metadata": {},
     "output_type": "execute_result"
    }
   ],
   "source": [
    "train_indicies"
   ]
  },
  {
   "cell_type": "code",
   "execution_count": 72,
   "id": "b6116dff",
   "metadata": {},
   "outputs": [
    {
     "data": {
      "text/plain": [
       "array([[1.  , 0.  ],\n",
       "       [0.95, 0.05],\n",
       "       [0.92, 0.08],\n",
       "       [0.26, 0.74],\n",
       "       [0.29, 0.71],\n",
       "       [0.44, 0.56],\n",
       "       [0.65, 0.35],\n",
       "       [0.78, 0.22],\n",
       "       [0.91, 0.09],\n",
       "       [0.96, 0.04],\n",
       "       [0.74, 0.26],\n",
       "       [0.85, 0.15],\n",
       "       [0.7 , 0.3 ],\n",
       "       [0.19, 0.81],\n",
       "       [0.19, 0.81],\n",
       "       [0.99, 0.01],\n",
       "       [1.  , 0.  ],\n",
       "       [0.97, 0.03],\n",
       "       [0.36, 0.64],\n",
       "       [1.  , 0.  ],\n",
       "       [0.87, 0.13],\n",
       "       [0.9 , 0.1 ],\n",
       "       [0.99, 0.01],\n",
       "       [0.99, 0.01],\n",
       "       [0.97, 0.03],\n",
       "       [0.78, 0.22],\n",
       "       [0.66, 0.34],\n",
       "       [0.98, 0.02],\n",
       "       [0.99, 0.01],\n",
       "       [0.63, 0.37],\n",
       "       [0.7 , 0.3 ],\n",
       "       [0.5 , 0.5 ],\n",
       "       [0.35, 0.65],\n",
       "       [0.2 , 0.8 ]])"
      ]
     },
     "execution_count": 72,
     "metadata": {},
     "output_type": "execute_result"
    }
   ],
   "source": [
    "y_preds_split"
   ]
  },
  {
   "cell_type": "code",
   "execution_count": 77,
   "id": "3ce21a9e",
   "metadata": {},
   "outputs": [
    {
     "data": {
      "text/plain": [
       "array([0.  , 0.05, 0.08, 0.74, 0.71, 0.56, 0.35, 0.22, 0.09, 0.04, 0.26,\n",
       "       0.15, 0.3 , 0.81, 0.81, 0.01, 0.  , 0.03, 0.64, 0.  , 0.13, 0.1 ,\n",
       "       0.01, 0.01, 0.03, 0.22, 0.34, 0.02, 0.01, 0.37, 0.3 , 0.5 , 0.65,\n",
       "       0.8 ])"
      ]
     },
     "execution_count": 77,
     "metadata": {},
     "output_type": "execute_result"
    }
   ],
   "source": [
    "y_preds_split[:, 1]"
   ]
  },
  {
   "cell_type": "code",
   "execution_count": 74,
   "id": "fd21e2c2",
   "metadata": {},
   "outputs": [
    {
     "data": {
      "text/plain": [
       "array([0, 1])"
      ]
     },
     "execution_count": 74,
     "metadata": {},
     "output_type": "execute_result"
    }
   ],
   "source": [
    "pipe.classes_"
   ]
  },
  {
   "cell_type": "code",
   "execution_count": 73,
   "id": "fde1cded",
   "metadata": {},
   "outputs": [
    {
     "data": {
      "text/plain": [
       "(34, 2)"
      ]
     },
     "execution_count": 73,
     "metadata": {},
     "output_type": "execute_result"
    }
   ],
   "source": [
    "y_preds_split.shape"
   ]
  },
  {
   "cell_type": "code",
   "execution_count": 58,
   "id": "81c4c6c2",
   "metadata": {},
   "outputs": [
    {
     "data": {
      "text/html": [
       "<div>\n",
       "<style scoped>\n",
       "    .dataframe tbody tr th:only-of-type {\n",
       "        vertical-align: middle;\n",
       "    }\n",
       "\n",
       "    .dataframe tbody tr th {\n",
       "        vertical-align: top;\n",
       "    }\n",
       "\n",
       "    .dataframe thead th {\n",
       "        text-align: right;\n",
       "    }\n",
       "</style>\n",
       "<table border=\"1\" class=\"dataframe\">\n",
       "  <thead>\n",
       "    <tr style=\"text-align: right;\">\n",
       "      <th></th>\n",
       "      <th>day</th>\n",
       "      <th>period</th>\n",
       "      <th>nswdemand</th>\n",
       "      <th>vicdemand</th>\n",
       "      <th>transfer</th>\n",
       "    </tr>\n",
       "  </thead>\n",
       "  <tbody>\n",
       "    <tr>\n",
       "      <th>0</th>\n",
       "      <td>1</td>\n",
       "      <td>0</td>\n",
       "      <td>0.439155</td>\n",
       "      <td>0.422915</td>\n",
       "      <td>0.414912</td>\n",
       "    </tr>\n",
       "    <tr>\n",
       "      <th>1</th>\n",
       "      <td>1</td>\n",
       "      <td>1</td>\n",
       "      <td>0.415055</td>\n",
       "      <td>0.422915</td>\n",
       "      <td>0.414912</td>\n",
       "    </tr>\n",
       "    <tr>\n",
       "      <th>2</th>\n",
       "      <td>1</td>\n",
       "      <td>2</td>\n",
       "      <td>0.385004</td>\n",
       "      <td>0.422915</td>\n",
       "      <td>0.414912</td>\n",
       "    </tr>\n",
       "    <tr>\n",
       "      <th>3</th>\n",
       "      <td>1</td>\n",
       "      <td>3</td>\n",
       "      <td>0.314639</td>\n",
       "      <td>0.422915</td>\n",
       "      <td>0.414912</td>\n",
       "    </tr>\n",
       "    <tr>\n",
       "      <th>4</th>\n",
       "      <td>1</td>\n",
       "      <td>4</td>\n",
       "      <td>0.251116</td>\n",
       "      <td>0.422915</td>\n",
       "      <td>0.414912</td>\n",
       "    </tr>\n",
       "    <tr>\n",
       "      <th>...</th>\n",
       "      <td>...</td>\n",
       "      <td>...</td>\n",
       "      <td>...</td>\n",
       "      <td>...</td>\n",
       "      <td>...</td>\n",
       "    </tr>\n",
       "    <tr>\n",
       "      <th>93</th>\n",
       "      <td>2</td>\n",
       "      <td>45</td>\n",
       "      <td>0.435138</td>\n",
       "      <td>0.422915</td>\n",
       "      <td>0.414912</td>\n",
       "    </tr>\n",
       "    <tr>\n",
       "      <th>94</th>\n",
       "      <td>2</td>\n",
       "      <td>46</td>\n",
       "      <td>0.456412</td>\n",
       "      <td>0.422915</td>\n",
       "      <td>0.414912</td>\n",
       "    </tr>\n",
       "    <tr>\n",
       "      <th>97</th>\n",
       "      <td>3</td>\n",
       "      <td>1</td>\n",
       "      <td>0.429485</td>\n",
       "      <td>0.422915</td>\n",
       "      <td>0.414912</td>\n",
       "    </tr>\n",
       "    <tr>\n",
       "      <th>98</th>\n",
       "      <td>3</td>\n",
       "      <td>2</td>\n",
       "      <td>0.399286</td>\n",
       "      <td>0.422915</td>\n",
       "      <td>0.414912</td>\n",
       "    </tr>\n",
       "    <tr>\n",
       "      <th>99</th>\n",
       "      <td>3</td>\n",
       "      <td>3</td>\n",
       "      <td>0.331449</td>\n",
       "      <td>0.422915</td>\n",
       "      <td>0.414912</td>\n",
       "    </tr>\n",
       "  </tbody>\n",
       "</table>\n",
       "<p>66 rows × 5 columns</p>\n",
       "</div>"
      ],
      "text/plain": [
       "   day period  nswdemand  vicdemand  transfer\n",
       "0    1      0   0.439155   0.422915  0.414912\n",
       "1    1      1   0.415055   0.422915  0.414912\n",
       "2    1      2   0.385004   0.422915  0.414912\n",
       "3    1      3   0.314639   0.422915  0.414912\n",
       "4    1      4   0.251116   0.422915  0.414912\n",
       "..  ..    ...        ...        ...       ...\n",
       "93   2     45   0.435138   0.422915  0.414912\n",
       "94   2     46   0.456412   0.422915  0.414912\n",
       "97   3      1   0.429485   0.422915  0.414912\n",
       "98   3      2   0.399286   0.422915  0.414912\n",
       "99   3      3   0.331449   0.422915  0.414912\n",
       "\n",
       "[66 rows x 5 columns]"
      ]
     },
     "execution_count": 58,
     "metadata": {},
     "output_type": "execute_result"
    }
   ],
   "source": [
    "X.iloc[train_indicies]"
   ]
  },
  {
   "cell_type": "code",
   "execution_count": 56,
   "id": "683f14be",
   "metadata": {},
   "outputs": [
    {
     "data": {
      "text/html": [
       "<div>\n",
       "<style scoped>\n",
       "    .dataframe tbody tr th:only-of-type {\n",
       "        vertical-align: middle;\n",
       "    }\n",
       "\n",
       "    .dataframe tbody tr th {\n",
       "        vertical-align: top;\n",
       "    }\n",
       "\n",
       "    .dataframe thead th {\n",
       "        text-align: right;\n",
       "    }\n",
       "</style>\n",
       "<table border=\"1\" class=\"dataframe\">\n",
       "  <thead>\n",
       "    <tr style=\"text-align: right;\">\n",
       "      <th></th>\n",
       "      <th>day</th>\n",
       "      <th>period</th>\n",
       "      <th>nswdemand</th>\n",
       "      <th>vicdemand</th>\n",
       "      <th>transfer</th>\n",
       "    </tr>\n",
       "  </thead>\n",
       "  <tbody>\n",
       "    <tr>\n",
       "      <th>0</th>\n",
       "      <td>1</td>\n",
       "      <td>0</td>\n",
       "      <td>0.439155</td>\n",
       "      <td>0.422915</td>\n",
       "      <td>0.414912</td>\n",
       "    </tr>\n",
       "    <tr>\n",
       "      <th>1</th>\n",
       "      <td>1</td>\n",
       "      <td>1</td>\n",
       "      <td>0.415055</td>\n",
       "      <td>0.422915</td>\n",
       "      <td>0.414912</td>\n",
       "    </tr>\n",
       "    <tr>\n",
       "      <th>2</th>\n",
       "      <td>1</td>\n",
       "      <td>2</td>\n",
       "      <td>0.385004</td>\n",
       "      <td>0.422915</td>\n",
       "      <td>0.414912</td>\n",
       "    </tr>\n",
       "    <tr>\n",
       "      <th>3</th>\n",
       "      <td>1</td>\n",
       "      <td>3</td>\n",
       "      <td>0.314639</td>\n",
       "      <td>0.422915</td>\n",
       "      <td>0.414912</td>\n",
       "    </tr>\n",
       "    <tr>\n",
       "      <th>4</th>\n",
       "      <td>1</td>\n",
       "      <td>4</td>\n",
       "      <td>0.251116</td>\n",
       "      <td>0.422915</td>\n",
       "      <td>0.414912</td>\n",
       "    </tr>\n",
       "    <tr>\n",
       "      <th>...</th>\n",
       "      <td>...</td>\n",
       "      <td>...</td>\n",
       "      <td>...</td>\n",
       "      <td>...</td>\n",
       "      <td>...</td>\n",
       "    </tr>\n",
       "    <tr>\n",
       "      <th>95</th>\n",
       "      <td>2</td>\n",
       "      <td>47</td>\n",
       "      <td>0.449866</td>\n",
       "      <td>0.422915</td>\n",
       "      <td>0.414912</td>\n",
       "    </tr>\n",
       "    <tr>\n",
       "      <th>96</th>\n",
       "      <td>3</td>\n",
       "      <td>0</td>\n",
       "      <td>0.448230</td>\n",
       "      <td>0.422915</td>\n",
       "      <td>0.414912</td>\n",
       "    </tr>\n",
       "    <tr>\n",
       "      <th>97</th>\n",
       "      <td>3</td>\n",
       "      <td>1</td>\n",
       "      <td>0.429485</td>\n",
       "      <td>0.422915</td>\n",
       "      <td>0.414912</td>\n",
       "    </tr>\n",
       "    <tr>\n",
       "      <th>98</th>\n",
       "      <td>3</td>\n",
       "      <td>2</td>\n",
       "      <td>0.399286</td>\n",
       "      <td>0.422915</td>\n",
       "      <td>0.414912</td>\n",
       "    </tr>\n",
       "    <tr>\n",
       "      <th>99</th>\n",
       "      <td>3</td>\n",
       "      <td>3</td>\n",
       "      <td>0.331449</td>\n",
       "      <td>0.422915</td>\n",
       "      <td>0.414912</td>\n",
       "    </tr>\n",
       "  </tbody>\n",
       "</table>\n",
       "<p>100 rows × 5 columns</p>\n",
       "</div>"
      ],
      "text/plain": [
       "   day period  nswdemand  vicdemand  transfer\n",
       "0    1      0   0.439155   0.422915  0.414912\n",
       "1    1      1   0.415055   0.422915  0.414912\n",
       "2    1      2   0.385004   0.422915  0.414912\n",
       "3    1      3   0.314639   0.422915  0.414912\n",
       "4    1      4   0.251116   0.422915  0.414912\n",
       "..  ..    ...        ...        ...       ...\n",
       "95   2     47   0.449866   0.422915  0.414912\n",
       "96   3      0   0.448230   0.422915  0.414912\n",
       "97   3      1   0.429485   0.422915  0.414912\n",
       "98   3      2   0.399286   0.422915  0.414912\n",
       "99   3      3   0.331449   0.422915  0.414912\n",
       "\n",
       "[100 rows x 5 columns]"
      ]
     },
     "execution_count": 56,
     "metadata": {},
     "output_type": "execute_result"
    }
   ],
   "source": [
    "X"
   ]
  },
  {
   "cell_type": "code",
   "execution_count": null,
   "id": "9f5db97f",
   "metadata": {},
   "outputs": [],
   "source": []
  },
  {
   "cell_type": "code",
   "execution_count": null,
   "id": "3c20228d",
   "metadata": {},
   "outputs": [],
   "source": [
    "for train, test in skf.split(X, y):"
   ]
  },
  {
   "cell_type": "code",
   "execution_count": 52,
   "id": "4e40fff5",
   "metadata": {},
   "outputs": [
    {
     "data": {
      "text/plain": [
       "array([ 0,  1,  4,  5,  7,  8,  9, 10, 12, 13, 15, 17, 18, 20, 22, 23, 24,\n",
       "       25, 27, 28, 29, 30, 31, 32, 35, 38, 39, 40, 41, 43, 44, 45, 47, 52,\n",
       "       53, 54, 55, 56, 57, 59, 60, 62, 64, 65, 67, 68, 69, 70, 72, 73, 74,\n",
       "       75, 76, 77, 78, 79, 81, 82, 85, 89, 90, 92, 93, 95, 96, 97, 99])"
      ]
     },
     "execution_count": 52,
     "metadata": {},
     "output_type": "execute_result"
    }
   ],
   "source": [
    "train"
   ]
  },
  {
   "cell_type": "code",
   "execution_count": 53,
   "id": "c53ec9ff",
   "metadata": {},
   "outputs": [
    {
     "data": {
      "text/plain": [
       "array([ 2,  3,  6, 11, 14, 16, 19, 21, 26, 33, 34, 36, 37, 42, 46, 48, 49,\n",
       "       50, 51, 58, 61, 63, 66, 71, 80, 83, 84, 86, 87, 88, 91, 94, 98])"
      ]
     },
     "execution_count": 53,
     "metadata": {},
     "output_type": "execute_result"
    }
   ],
   "source": [
    "test"
   ]
  },
  {
   "cell_type": "code",
   "execution_count": 41,
   "id": "f9607447",
   "metadata": {},
   "outputs": [
    {
     "data": {
      "text/plain": [
       "(66,)"
      ]
     },
     "execution_count": 41,
     "metadata": {},
     "output_type": "execute_result"
    }
   ],
   "source": [
    "t.shape"
   ]
  },
  {
   "cell_type": "code",
   "execution_count": 43,
   "id": "5c9cbb12",
   "metadata": {},
   "outputs": [],
   "source": [
    "import numpy as np"
   ]
  },
  {
   "cell_type": "code",
   "execution_count": 44,
   "id": "9427b3e9",
   "metadata": {},
   "outputs": [
    {
     "ename": "TypeError",
     "evalue": "bincount() missing 1 required positional argument: 'x'",
     "output_type": "error",
     "traceback": [
      "\u001B[0;31m---------------------------------------------------------------------------\u001B[0m",
      "\u001B[0;31mTypeError\u001B[0m                                 Traceback (most recent call last)",
      "\u001B[0;32m/var/folders/th/1h5q6p_17090jywv1223brsc0000gp/T/ipykernel_42676/296623790.py\u001B[0m in \u001B[0;36m<module>\u001B[0;34m\u001B[0m\n\u001B[0;32m----> 1\u001B[0;31m \u001B[0mnp\u001B[0m\u001B[0;34m.\u001B[0m\u001B[0mbincount\u001B[0m\u001B[0;34m(\u001B[0m\u001B[0;34m)\u001B[0m\u001B[0;34m\u001B[0m\u001B[0;34m\u001B[0m\u001B[0m\n\u001B[0m",
      "\u001B[0;32m<__array_function__ internals>\u001B[0m in \u001B[0;36mbincount\u001B[0;34m(*args, **kwargs)\u001B[0m\n",
      "\u001B[0;31mTypeError\u001B[0m: bincount() missing 1 required positional argument: 'x'"
     ]
    }
   ],
   "source": [
    "np.bincount()"
   ]
  },
  {
   "cell_type": "code",
   "execution_count": null,
   "id": "1a309122",
   "metadata": {},
   "outputs": [],
   "source": []
  }
 ],
 "metadata": {
  "kernelspec": {
   "display_name": "Python 3 (ipykernel)",
   "language": "python",
   "name": "python3"
  },
  "language_info": {
   "codemirror_mode": {
    "name": "ipython",
    "version": 3
   },
   "file_extension": ".py",
   "mimetype": "text/x-python",
   "name": "python",
   "nbconvert_exporter": "python",
   "pygments_lexer": "ipython3",
   "version": "3.8.8"
  }
 },
 "nbformat": 4,
 "nbformat_minor": 5
}